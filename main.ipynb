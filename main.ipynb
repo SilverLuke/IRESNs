{
 "cells": [
  {
   "cell_type": "code",
   "execution_count": 5,
   "outputs": [
    {
     "name": "stdout",
     "output_type": "stream",
     "text": [
      "The autoreload extension is already loaded. To reload it, use:\n",
      "  %reload_ext autoreload\n"
     ]
    }
   ],
   "source": [
    "%load_ext autoreload\n",
    "%autoreload 2"
   ],
   "metadata": {
    "collapsed": false,
    "pycharm": {
     "name": "#%%\n"
    }
   }
  },
  {
   "cell_type": "code",
   "execution_count": 6,
   "outputs": [],
   "source": [
    "from sklearn.model_selection import train_test_split\n",
    "from ESNs_tensorflow.time_series_datasets import *\n",
    "from ESNs_tensorflow.models  import ESN, IRESN, IIRESN, IIRESNvsr\n",
    "from tensorflow import keras\n",
    "\n",
    "PROJECT_ROOT = os.path.abspath(os.getcwd())\n",
    "DATASET_NAME = \"CharacterTrajectories\"\n",
    "DATASET_DIR = os.path.join(PROJECT_ROOT, \"datasets\")\n",
    "\n",
    "READOUT_ACTIVATION_BINARY = keras.activations.sigmoid\n",
    "LOSS_FUNCTION_BINARY = keras.losses.BinaryCrossentropy()\n",
    "\n",
    "READOUT_ACTIVATION = keras.activations.softmax  # https://www.tensorflow.org/api_docs/python/tf/keras/activations\n",
    "LOSS_FUNCTION = keras.losses.SparseCategoricalCrossentropy()\n",
    "\n",
    "# Dataset dependent settings\n",
    "RESERVOIRS = 3\n",
    "OUTPUT_UNITS = 20\n",
    "\n",
    "# Tuner settings\n",
    "MAX_EPOCHS = 3\n",
    "PATIENCE = 1\n",
    "MAX_TRIALS = 5\n",
    "OVERWRITE = False\n",
    "TRIALS = 1\n",
    "\n",
    "BENCHMARKS_TRIALS = 1\n",
    "\n",
    "MINVAL = 0.01\n",
    "MAXVAL = 1.5"
   ],
   "metadata": {
    "collapsed": false,
    "pycharm": {
     "name": "#%%\n"
    }
   }
  },
  {
   "cell_type": "code",
   "execution_count": 7,
   "outputs": [],
   "source": [
    "def build_ESN(tuner):\n",
    "    ESN_model = ESN(units=100,\n",
    "                    connectivity=tuner.Float('connectivity', min_value=0.01, max_value=1.),\n",
    "                    spectral_radius=tuner.Float('spectral radius', min_value=MINVAL, max_value=MAXVAL),\n",
    "                    input_scaling=tuner.Float('input scaling', min_value=MINVAL, max_value=MAXVAL),\n",
    "                    bias_scaling=tuner.Float('bias scaling', min_value=MINVAL, max_value=MAXVAL),\n",
    "                    leaky=tuner.Float('leaky', min_value=0.01, max_value=1.0),\n",
    "                    output_units=OUTPUT_UNITS,\n",
    "                    readout_activation=READOUT_ACTIVATION,\n",
    "                    )\n",
    "\n",
    "    alpha = tuner.Float('learning rate', min_value=1e-5, max_value=1e-1, sampling='log')\n",
    "    ESN_model.compile(\n",
    "        optimizer=keras.optimizers.Adam(alpha),\n",
    "        loss=LOSS_FUNCTION,\n",
    "        metrics=['accuracy'],\n",
    "    )\n",
    "\n",
    "    return ESN_model"
   ],
   "metadata": {
    "collapsed": false,
    "pycharm": {
     "name": "#%%\n"
    }
   }
  },
  {
   "cell_type": "code",
   "execution_count": 8,
   "outputs": [],
   "source": [
    "def build_IRESN(tuner):\n",
    "    connectivity = [tuner.Float('connectivity ' + str(i), min_value=0.01, max_value=1.) for i in range(RESERVOIRS)]\n",
    "    sr = [tuner.Float('spectral radius ' + str(i), min_value=MINVAL, max_value=MAXVAL) for i in range(RESERVOIRS)]\n",
    "\n",
    "    IRESN_model = IRESN(units=100,\n",
    "                        sub_reservoirs=RESERVOIRS,\n",
    "                        connectivity=connectivity,\n",
    "                        spectral_radius=sr,\n",
    "                        input_scaling=tuner.Float('input scaling', min_value=MINVAL, max_value=MAXVAL),\n",
    "                        bias_scaling=tuner.Float('bias_scaling', min_value=MINVAL, max_value=MAXVAL),\n",
    "                        leaky=tuner.Float('leaky', min_value=0.01, max_value=1.0),\n",
    "                        output_units=OUTPUT_UNITS,\n",
    "                        readout_activation=READOUT_ACTIVATION,\n",
    "                        )\n",
    "\n",
    "    alpha = tuner.Float('learning rate', min_value=1e-5, max_value=1e-1, sampling='log')\n",
    "    IRESN_model.compile(\n",
    "        optimizer=keras.optimizers.Adam(alpha),  # keras.optimizers.RMSprop(alpha),\n",
    "        loss=LOSS_FUNCTION,\n",
    "        metrics=['accuracy'],\n",
    "    )\n",
    "    return IRESN_model"
   ],
   "metadata": {
    "collapsed": false,
    "pycharm": {
     "name": "#%%\n"
    }
   }
  },
  {
   "cell_type": "code",
   "execution_count": 9,
   "outputs": [],
   "source": [
    "def build_IIRESN(tuner):\n",
    "    sr = [tuner.Float('spectral radius ' + str(i), min_value=MINVAL, max_value=MAXVAL) for i in range(RESERVOIRS)]\n",
    "\n",
    "    \"\"\"\n",
    "    connectivity = [[tuner.Float('connectivity ' + str(i), min_value=0., max_value=1.) if i == j else\n",
    "                     tuner.Float('connectivity ' + str(i) + '->' + str(j), min_value=0., max_value=1.)\n",
    "                     for i in range(RESERVOIRS)]\n",
    "                    for j in range(RESERVOIRS)]\n",
    "\n",
    "    off_diagonal_limits = [[0. if i == j else\n",
    "                     tuner.Float('limit ' + str(i) + '->' + str(j), min_value=0., max_value=1.)\n",
    "                     for i in range(RESERVOIRS)]\n",
    "                    for j in range(RESERVOIRS)]\n",
    "    \"\"\"\n",
    "    limit = tuner.Float('limit X->Y', min_value=0., max_value=1.)\n",
    "    off_diagonal_limits = [[0. if i == j else limit  # 0 sulla diagonale limit su tutte le posizioni off-diagonali\n",
    "                            for i in range(RESERVOIRS)]\n",
    "                           for j in range(RESERVOIRS)]\n",
    "\n",
    "    fixed = tuner.Float('connectivity X->Y', min_value=0., max_value=1.)\n",
    "    connectivity = [[tuner.Float('connectivity ' + str(i), min_value=0., max_value=1.) if i == j else\n",
    "                     fixed\n",
    "                     for i in range(RESERVOIRS)]\n",
    "                    for j in range(RESERVOIRS)]\n",
    "\n",
    "    IIRENS_model = IIRESN(units=100,\n",
    "                          sub_reservoirs=RESERVOIRS,\n",
    "                          connectivity=connectivity,\n",
    "                          spectral_radius=sr,\n",
    "                          off_diagonal_limits=off_diagonal_limits,\n",
    "                          input_scaling=tuner.Float('input scaling', min_value=MINVAL, max_value=MAXVAL),\n",
    "                          bias_scaling=tuner.Float('bias_scaling', min_value=MINVAL, max_value=MAXVAL),\n",
    "                          leaky=tuner.Float('leaky', min_value=0.01, max_value=1.0),\n",
    "                          output_units=OUTPUT_UNITS,\n",
    "                          readout_activation=READOUT_ACTIVATION,\n",
    "                          )\n",
    "\n",
    "    alpha = tuner.Float('learning rate', min_value=1e-5, max_value=1e-1, sampling='log')\n",
    "    IIRENS_model.compile(\n",
    "        optimizer=keras.optimizers.Adam(alpha),  # keras.optimizers.RMSprop(alpha),\n",
    "        loss=LOSS_FUNCTION,\n",
    "        metrics=['accuracy'],\n",
    "    )\n",
    "    return IIRENS_model"
   ],
   "metadata": {
    "collapsed": false,
    "pycharm": {
     "name": "#%%\n"
    }
   }
  },
  {
   "cell_type": "code",
   "execution_count": 10,
   "outputs": [],
   "source": [
    "def build_IIRESNvsr(tuner):\n",
    "    sr = [tuner.Float('spectral radius ' + str(i), min_value=MINVAL, max_value=MAXVAL) for i in range(RESERVOIRS)]\n",
    "\n",
    "    \"\"\"\n",
    "    connectivity = [[tuner.Float('connectivity ' + str(i), min_value=0., max_value=1.) if i == j else\n",
    "                     tuner.Float('connectivity ' + str(i) + '->' + str(j), min_value=0., max_value=1.)\n",
    "                     for i in range(RESERVOIRS)]\n",
    "                    for j in range(RESERVOIRS)]\n",
    "\n",
    "    off_diagonal_limits = [[0. if i == j else\n",
    "                     tuner.Float('limit ' + str(i) + '->' + str(j), min_value=0., max_value=1.)\n",
    "                     for i in range(RESERVOIRS)]\n",
    "                    for j in range(RESERVOIRS)]\n",
    "    \"\"\"\n",
    "\n",
    "    fixed = tuner.Float('connectivity X->Y', min_value=0., max_value=1.)\n",
    "    connectivity = [[tuner.Float('connectivity ' + str(i), min_value=0., max_value=1.) if i == j else\n",
    "                     fixed\n",
    "                     for i in range(RESERVOIRS)]\n",
    "                    for j in range(RESERVOIRS)]\n",
    "\n",
    "    limit = tuner.Float('limit X->Y', min_value=0., max_value=1.)\n",
    "    off_diagonal_limits = [[0. if i == j else limit  # 0 sulla diagonale limit su tutte le posizioni off-diagonali\n",
    "                            for i in range(RESERVOIRS)]\n",
    "                           for j in range(RESERVOIRS)]\n",
    "\n",
    "    partitions = [tuner.Float('partition ' + str(i), min_value=0.1, max_value=1.0) for i in range(RESERVOIRS)]\n",
    "    total = sum(partitions)\n",
    "    # Normalize the partition vector now sum(partitions) == 1.\n",
    "    partitions = list(map(lambda _x: 0 if total == 0 else _x / total, partitions))\n",
    "\n",
    "    IIRESNvsr_model = IIRESNvsr(units=100,\n",
    "                                partitions=partitions,\n",
    "                                sub_reservoirs=RESERVOIRS,\n",
    "                                connectivity=connectivity,\n",
    "                                off_diagonal_limits=off_diagonal_limits,\n",
    "                                spectral_radius=sr,\n",
    "                                input_scaling=tuner.Float('input scaling', min_value=MINVAL, max_value=MAXVAL),\n",
    "                                bias_scaling=tuner.Float('bias_scaling', min_value=MINVAL, max_value=MAXVAL),\n",
    "                                leaky=tuner.Float('leaky', min_value=0.01, max_value=1.0),\n",
    "                                output_units=OUTPUT_UNITS,\n",
    "                                readout_activation=READOUT_ACTIVATION,\n",
    "                                )\n",
    "\n",
    "    alpha = tuner.Float('learning rate', min_value=1e-5, max_value=1e-1, sampling='log')\n",
    "    IIRESNvsr_model.compile(\n",
    "        optimizer=keras.optimizers.Adam(alpha),  # keras.optimizers.RMSprop(alpha),\n",
    "        loss=LOSS_FUNCTION,\n",
    "        metrics=['accuracy'],\n",
    "    )\n",
    "    return IIRESNvsr_model"
   ],
   "metadata": {
    "collapsed": false,
    "pycharm": {
     "name": "#%%\n"
    }
   }
  },
  {
   "cell_type": "code",
   "execution_count": 11,
   "outputs": [
    {
     "name": "stderr",
     "output_type": "stream",
     "text": [
      "/dati/luca/Uni-Luca/Tesi/progetto/venv/lib/python3.9/site-packages/sktime/utils/data_io.py:63: FutureWarning: This function has moved to datasets/_data_io, this version will be removed in V0.10\n",
      "  warn(\n",
      "/dati/luca/Uni-Luca/Tesi/progetto/venv/lib/python3.9/site-packages/sktime/utils/data_io.py:63: FutureWarning: This function has moved to datasets/_data_io, this version will be removed in V0.10\n",
      "  warn(\n"
     ]
    }
   ],
   "source": [
    "train_path = os.path.join(DATASET_DIR, DATASET_NAME, DATASET_NAME + '_TRAIN.ts')\n",
    "test_path = os.path.join(DATASET_DIR, DATASET_NAME, DATASET_NAME + '_TEST.ts')\n",
    "\n",
    "x_train_all, y_train_all = load_sktime_dataset(train_path)\n",
    "x_test, y_test = load_sktime_dataset(test_path)\n",
    "\n",
    "x_train, x_val, y_train, y_val = train_test_split(x_train_all, y_train_all,\n",
    "                                                  test_size=0.33, random_state=42, stratify=y_train_all)\n",
    "\n",
    "train_set = (x_train, y_train)\n",
    "val_set = (x_val, y_val)\n",
    "test_set = (x_test, y_test)"
   ],
   "metadata": {
    "collapsed": false,
    "pycharm": {
     "name": "#%%\n"
    }
   }
  },
  {
   "cell_type": "code",
   "execution_count": 12,
   "outputs": [
    {
     "name": "stdout",
     "output_type": "stream",
     "text": [
      "INFO:tensorflow:Reloading Oracle from existing project models/CharacterTrajectories/IIRESNvsr/oracle.json\n",
      "INFO:tensorflow:Reloading Tuner from models/CharacterTrajectories/IIRESNvsr/tuner0.json\n",
      "INFO:tensorflow:Oracle triggered exit\n",
      "WARNING:tensorflow:From /dati/luca/Uni-Luca/Tesi/progetto/venv/lib/python3.9/site-packages/tensorflow/python/ops/linalg/linear_operator_block_diag.py:234: LinearOperator.graph_parents (from tensorflow.python.ops.linalg.linear_operator) is deprecated and will be removed in a future version.\n",
      "Instructions for updating:\n",
      "Do not call `graph_parents`.\n",
      "Epoch 1/3\n",
      "30/30 [==============================] - 0s 3ms/step - loss: 2.7557 - accuracy: 0.1691 - val_loss: 2.4147 - val_accuracy: 0.3298\n",
      "Epoch 2/3\n",
      "30/30 [==============================] - 0s 1ms/step - loss: 2.2296 - accuracy: 0.5074 - val_loss: 2.0212 - val_accuracy: 0.5787\n",
      "Epoch 3/3\n",
      "30/30 [==============================] - 0s 1ms/step - loss: 1.9004 - accuracy: 0.5830 - val_loss: 1.7551 - val_accuracy: 0.6638\n",
      "45/45 [==============================] - 0s 462us/step - loss: 1.7622 - accuracy: 0.6469\n",
      "     Train accuracy: 0.5829831957817078\n",
      "Validation accuracy: 0.6638298034667969\n",
      "      Test accuracy: 0.6469359397888184\n"
     ]
    },
    {
     "name": "stderr",
     "output_type": "stream",
     "text": [
      "2022-03-05 00:47:38.965094: W tensorflow/core/framework/cpu_allocator_impl.cc:82] Allocation of 104540800 exceeds 10% of free system memory.\n",
      "2022-03-05 00:47:38.981581: W tensorflow/core/framework/cpu_allocator_impl.cc:82] Allocation of 104540800 exceeds 10% of free system memory.\n"
     ]
    }
   ],
   "source": [
    "from keras_tuner import RandomSearch\n",
    "\n",
    "working_dir = os.path.join(\"models\", DATASET_NAME)\n",
    "if not os.path.exists(working_dir):\n",
    "    os.makedirs(working_dir)\n",
    "\n",
    "tuner = RandomSearch(\n",
    "    build_IIRESNvsr,  # build_ESN build_IRESN, build_IIRESN, build_IIRESNvsr\n",
    "    objective='val_accuracy',\n",
    "    max_trials=MAX_TRIALS,\n",
    "    seed=42,\n",
    "    directory=working_dir,\n",
    "    project_name='IIRESNvsr',  # change this for every model\n",
    "    overwrite=OVERWRITE,\n",
    "    executions_per_trial=TRIALS,\n",
    ")\n",
    "\n",
    "tuner.search(x_train, y_train, epochs=MAX_EPOCHS, validation_data=(x_val, y_val),\n",
    "             callbacks=[\n",
    "                 keras.callbacks.EarlyStopping(monitor='val_loss', patience=PATIENCE),\n",
    "             ])\n",
    "\n",
    "best_model_hp = tuner.get_best_hyperparameters()[0]\n",
    "tf.random.set_seed(42)\n",
    "\n",
    "for i in range(BENCHMARKS_TRIALS):\n",
    "    test_model = tuner.hypermodel.build(best_model_hp)\n",
    "    history = test_model.fit(x_train, y_train, validation_data=(x_val, y_val), epochs=MAX_EPOCHS,\n",
    "                             callbacks=[keras.callbacks.EarlyStopping(monitor='val_loss', patience=PATIENCE,\n",
    "                                                                      restore_best_weights=True)])\n",
    "    test_loss, accuracy = test_model.evaluate(x_test, y_test)\n",
    "\n",
    "    print(\"     Train accuracy:\", history.history['accuracy'][-1])\n",
    "    print(\"Validation accuracy:\", history.history['val_accuracy'][-1])\n",
    "    print(\"      Test accuracy:\", accuracy)"
   ],
   "metadata": {
    "collapsed": false,
    "pycharm": {
     "name": "#%%\n"
    }
   }
  }
 ],
 "metadata": {
  "kernelspec": {
   "name": "venv",
   "language": "python",
   "display_name": "venv"
  },
  "language_info": {
   "codemirror_mode": {
    "name": "ipython",
    "version": 2
   },
   "file_extension": ".py",
   "mimetype": "text/x-python",
   "name": "python",
   "nbconvert_exporter": "python",
   "pygments_lexer": "ipython2",
   "version": "2.7.6"
  }
 },
 "nbformat": 4,
 "nbformat_minor": 0
}